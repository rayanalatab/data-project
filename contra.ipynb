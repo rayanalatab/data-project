{
 "cells": [
  {
   "cell_type": "markdown",
   "metadata": {},
   "source": [
    "Dataset: https://archive.ics.uci.edu/ml/datasets/Contraceptive+Method+Choice"
   ]
  },
  {
   "cell_type": "code",
   "execution_count": 4,
   "metadata": {},
   "outputs": [],
   "source": [
    "import numpy as np\n",
    "import pandas as pd\n",
    "import seaborn as sns\n",
    "import matplotlib.pyplot as plt\n",
    "from sklearn import preprocessing\n",
    "from sklearn.model_selection import train_test_split, cross_val_score\n",
    "from sklearn.ensemble import RandomForestClassifier\n",
    "from sklearn.tree import DecisionTreeClassifier\n",
    "from sklearn.linear_model import LogisticRegressionCV\n",
    "from sklearn.model_selection import RandomizedSearchCV\n",
    "from sklearn.metrics import precision_recall_fscore_support\n",
    "from sklearn.metrics import accuracy_score, plot_confusion_matrix, classification_report\n",
    "from sklearn.tree import DecisionTreeClassifier\n",
    "from sklearn.model_selection import GridSearchCV\n",
    "import warnings\n",
    "warnings.filterwarnings('ignore')\n",
    "\n",
    "#pipeline and sampling\n",
    "from imblearn.pipeline import Pipeline\n",
    "from imblearn.over_sampling import SMOTE\n",
    "from imblearn.under_sampling import RandomUnderSampler\n",
    "from imblearn.over_sampling import RandomOverSampler\n",
    "\n",
    "\n",
    "\n"
   ]
  },
  {
   "cell_type": "markdown",
   "metadata": {},
   "source": [
    "*A random seed was set to maintain the same results everytime.* "
   ]
  },
  {
   "cell_type": "code",
   "execution_count": 5,
   "metadata": {},
   "outputs": [],
   "source": [
    "np.random.seed(42)"
   ]
  },
  {
   "cell_type": "markdown",
   "metadata": {},
   "source": [
    "# Load Data"
   ]
  },
  {
   "cell_type": "code",
   "execution_count": 6,
   "metadata": {
    "scrolled": false
   },
   "outputs": [
    {
     "data": {
      "text/html": [
       "<div>\n",
       "<style scoped>\n",
       "    .dataframe tbody tr th:only-of-type {\n",
       "        vertical-align: middle;\n",
       "    }\n",
       "\n",
       "    .dataframe tbody tr th {\n",
       "        vertical-align: top;\n",
       "    }\n",
       "\n",
       "    .dataframe thead th {\n",
       "        text-align: right;\n",
       "    }\n",
       "</style>\n",
       "<table border=\"1\" class=\"dataframe\">\n",
       "  <thead>\n",
       "    <tr style=\"text-align: right;\">\n",
       "      <th></th>\n",
       "      <th>wife_age</th>\n",
       "      <th>wife_education</th>\n",
       "      <th>husband_education</th>\n",
       "      <th>num_child</th>\n",
       "      <th>wife_religion</th>\n",
       "      <th>wife_work</th>\n",
       "      <th>husband_occupation</th>\n",
       "      <th>standard_living</th>\n",
       "      <th>media_exposure</th>\n",
       "      <th>contraceptive</th>\n",
       "    </tr>\n",
       "  </thead>\n",
       "  <tbody>\n",
       "    <tr>\n",
       "      <th>0</th>\n",
       "      <td>24</td>\n",
       "      <td>2</td>\n",
       "      <td>3</td>\n",
       "      <td>3</td>\n",
       "      <td>1</td>\n",
       "      <td>1</td>\n",
       "      <td>2</td>\n",
       "      <td>3</td>\n",
       "      <td>0</td>\n",
       "      <td>1</td>\n",
       "    </tr>\n",
       "    <tr>\n",
       "      <th>1</th>\n",
       "      <td>45</td>\n",
       "      <td>1</td>\n",
       "      <td>3</td>\n",
       "      <td>10</td>\n",
       "      <td>1</td>\n",
       "      <td>1</td>\n",
       "      <td>3</td>\n",
       "      <td>4</td>\n",
       "      <td>0</td>\n",
       "      <td>1</td>\n",
       "    </tr>\n",
       "    <tr>\n",
       "      <th>2</th>\n",
       "      <td>43</td>\n",
       "      <td>2</td>\n",
       "      <td>3</td>\n",
       "      <td>7</td>\n",
       "      <td>1</td>\n",
       "      <td>1</td>\n",
       "      <td>3</td>\n",
       "      <td>4</td>\n",
       "      <td>0</td>\n",
       "      <td>1</td>\n",
       "    </tr>\n",
       "    <tr>\n",
       "      <th>3</th>\n",
       "      <td>42</td>\n",
       "      <td>3</td>\n",
       "      <td>2</td>\n",
       "      <td>9</td>\n",
       "      <td>1</td>\n",
       "      <td>1</td>\n",
       "      <td>3</td>\n",
       "      <td>3</td>\n",
       "      <td>0</td>\n",
       "      <td>1</td>\n",
       "    </tr>\n",
       "    <tr>\n",
       "      <th>4</th>\n",
       "      <td>36</td>\n",
       "      <td>3</td>\n",
       "      <td>3</td>\n",
       "      <td>8</td>\n",
       "      <td>1</td>\n",
       "      <td>1</td>\n",
       "      <td>3</td>\n",
       "      <td>2</td>\n",
       "      <td>0</td>\n",
       "      <td>1</td>\n",
       "    </tr>\n",
       "  </tbody>\n",
       "</table>\n",
       "</div>"
      ],
      "text/plain": [
       "   wife_age  wife_education  husband_education  num_child  wife_religion  \\\n",
       "0        24               2                  3          3              1   \n",
       "1        45               1                  3         10              1   \n",
       "2        43               2                  3          7              1   \n",
       "3        42               3                  2          9              1   \n",
       "4        36               3                  3          8              1   \n",
       "\n",
       "   wife_work  husband_occupation  standard_living  media_exposure  \\\n",
       "0          1                   2                3               0   \n",
       "1          1                   3                4               0   \n",
       "2          1                   3                4               0   \n",
       "3          1                   3                3               0   \n",
       "4          1                   3                2               0   \n",
       "\n",
       "   contraceptive  \n",
       "0              1  \n",
       "1              1  \n",
       "2              1  \n",
       "3              1  \n",
       "4              1  "
      ]
     },
     "execution_count": 6,
     "metadata": {},
     "output_type": "execute_result"
    }
   ],
   "source": [
    "contra = pd.read_csv(\"contraceptive_for_students.csv\")\n",
    "contra.head(5)"
   ]
  },
  {
   "cell_type": "code",
   "execution_count": 7,
   "metadata": {},
   "outputs": [
    {
     "data": {
      "text/plain": [
       "14730"
      ]
     },
     "execution_count": 7,
     "metadata": {},
     "output_type": "execute_result"
    }
   ],
   "source": [
    "contra.size"
   ]
  },
  {
   "cell_type": "markdown",
   "metadata": {},
   "source": [
    "# Attribute Information\n",
    "\n"
   ]
  },
  {
   "cell_type": "markdown",
   "metadata": {},
   "source": [
    "1. Wife's age (numerical)\n",
    "2. Wife's education (categorical) 1=low, 2, 3, 4=high\n",
    "3. Husband's education (categorical) 1=low, 2, 3, 4=high\n",
    "4. Number of children ever born (numerical)\n",
    "5. Wife's religion (binary) 0=Non-Islam, 1=Islam\n",
    "6. Wife's now working? (binary) 0=Yes, 1=No\n",
    "7. Husband's occupation (categorical) 1, 2, 3, 4\n",
    "8. Standard-of-living index (categorical) 1=low, 2, 3, 4=high\n",
    "9. Media exposure (binary) 0=Good, 1=Not good\n",
    "10. Contraceptive method used (class attribute) 1=No-use, 2=Long-term, 3=Short-term\n"
   ]
  },
  {
   "cell_type": "markdown",
   "metadata": {},
   "source": [
    "# Data Cleaning"
   ]
  },
  {
   "cell_type": "markdown",
   "metadata": {},
   "source": [
    "##### 1. Check for null values"
   ]
  },
  {
   "cell_type": "code",
   "execution_count": 9,
   "metadata": {},
   "outputs": [
    {
     "data": {
      "text/html": [
       "<div>\n",
       "<style scoped>\n",
       "    .dataframe tbody tr th:only-of-type {\n",
       "        vertical-align: middle;\n",
       "    }\n",
       "\n",
       "    .dataframe tbody tr th {\n",
       "        vertical-align: top;\n",
       "    }\n",
       "\n",
       "    .dataframe thead th {\n",
       "        text-align: right;\n",
       "    }\n",
       "</style>\n",
       "<table border=\"1\" class=\"dataframe\">\n",
       "  <thead>\n",
       "    <tr style=\"text-align: right;\">\n",
       "      <th></th>\n",
       "      <th>Number of Null Values</th>\n",
       "    </tr>\n",
       "  </thead>\n",
       "  <tbody>\n",
       "    <tr>\n",
       "      <th>wife_age</th>\n",
       "      <td>0</td>\n",
       "    </tr>\n",
       "    <tr>\n",
       "      <th>wife_education</th>\n",
       "      <td>0</td>\n",
       "    </tr>\n",
       "    <tr>\n",
       "      <th>husband_education</th>\n",
       "      <td>0</td>\n",
       "    </tr>\n",
       "    <tr>\n",
       "      <th>num_child</th>\n",
       "      <td>0</td>\n",
       "    </tr>\n",
       "    <tr>\n",
       "      <th>wife_religion</th>\n",
       "      <td>0</td>\n",
       "    </tr>\n",
       "    <tr>\n",
       "      <th>wife_work</th>\n",
       "      <td>0</td>\n",
       "    </tr>\n",
       "    <tr>\n",
       "      <th>husband_occupation</th>\n",
       "      <td>0</td>\n",
       "    </tr>\n",
       "    <tr>\n",
       "      <th>standard_living</th>\n",
       "      <td>0</td>\n",
       "    </tr>\n",
       "    <tr>\n",
       "      <th>media_exposure</th>\n",
       "      <td>0</td>\n",
       "    </tr>\n",
       "    <tr>\n",
       "      <th>contraceptive</th>\n",
       "      <td>0</td>\n",
       "    </tr>\n",
       "  </tbody>\n",
       "</table>\n",
       "</div>"
      ],
      "text/plain": [
       "                    Number of Null Values\n",
       "wife_age                                0\n",
       "wife_education                          0\n",
       "husband_education                       0\n",
       "num_child                               0\n",
       "wife_religion                           0\n",
       "wife_work                               0\n",
       "husband_occupation                      0\n",
       "standard_living                         0\n",
       "media_exposure                          0\n",
       "contraceptive                           0"
      ]
     },
     "execution_count": 9,
     "metadata": {},
     "output_type": "execute_result"
    }
   ],
   "source": [
    "pd.DataFrame(contra.isna().sum()).rename(columns = {0 : 'Number of Null Values'})"
   ]
  },
  {
   "cell_type": "markdown",
   "metadata": {},
   "source": [
    "*Based on the results above, there are no null values in the code. Therefore, there is no need to drop or impute any of the values.* "
   ]
  },
  {
   "cell_type": "code",
   "execution_count": 10,
   "metadata": {},
   "outputs": [],
   "source": [
    "contra['type'] = contra['contraceptive'].replace({1: 'No Use', 2: \"Long Term\", 3 : \"Short Term\"})"
   ]
  },
  {
   "cell_type": "markdown",
   "metadata": {},
   "source": [
    "*Some of the features in the data such as num_child and wife_age are continuous valued features\n",
    "with different units of measurement (children vs years).*\n",
    "\n",
    "*Next we define a function to standardize these\n",
    "features as well as a basic feature transformation matrix that applies the standardize function\n",
    "to a specific subset of features, in this case, num_child and wife_age.* "
   ]
  },
  {
   "cell_type": "code",
   "execution_count": 11,
   "metadata": {},
   "outputs": [],
   "source": [
    "def standardize(data, with_std = True):\n",
    "    scaler = preprocessing.StandardScaler(with_std = with_std)\n",
    "    columns = data.columns\n",
    "    df = pd.DataFrame(scaler.fit_transform(data))\n",
    "    df.columns = columns\n",
    "    return df\n",
    "\n",
    "\"\"\"\n",
    "Standarizes the columns passed in the argument.\n",
    "\"\"\"\n",
    "def phi0(X, columns):\n",
    "    for column in columns:\n",
    "        X[column] = standardize(X[[column]])[column]\n",
    "    return X"
   ]
  },
  {
   "cell_type": "markdown",
   "metadata": {},
   "source": [
    "##### 2. Categorical Data &  One Hot Encoding"
   ]
  },
  {
   "cell_type": "markdown",
   "metadata": {},
   "source": [
    "*Much of the data represents categorical variables.*\n",
    "\n",
    "*Categorical Features: wife education, wife_religion, wife_work, husband_occupation, standard_living, media_exposure.*\n",
    "\n",
    "*The categorical features must be one hot encoded. Although many of the categorical features are ordinal, there is no effective way to accurately asess how the difference between deature values. For example, its impossible to tell how much better standard_living index of 1 is then 2.*"
   ]
  },
  {
   "cell_type": "code",
   "execution_count": 17,
   "metadata": {},
   "outputs": [],
   "source": [
    "def design(X, featurize = phi0):\n",
    "    X = X.copy()\n",
    "    categorical = X.copy()[['wife_education', 'husband_education', 'husband_occupation',\n",
    "       'standard_living']]\n",
    "    other = contra[['wife_age', 'num_child', \"wife_work\", \"media_exposure\"]]\n",
    "    #one hot encode the categorical data\n",
    "    encoder = preprocessing.OneHotEncoder()\n",
    "    one_hot = pd.DataFrame(encoder.fit_transform(categorical).toarray())\n",
    "    ohe_columns = [\"wife_edu1\", \"wife_edu2\", \"wife_edu3\", \"wife_edu4\", \"hus_edu1\", \"hus_edu2\", \"hus_edu3\", \"hus_edu4\", \n",
    "           \"hus_occ1\", \"hus_occ2\", \"hus_occ3\", \"hus_occ4\", \"std_living1\", \"std_living2\", \"std_living3\", \n",
    "           \"std_living4\"]\n",
    "    one_hot.columns = ohe_columns\n",
    "    contra_clean = other.join(one_hot)\n",
    "    return featurize(contra_clean, columns = ['wife_age', 'num_child'])"
   ]
  },
  {
   "cell_type": "code",
   "execution_count": 18,
   "metadata": {},
   "outputs": [],
   "source": [
    "def design_with_religion(X, featurize = phi0):\n",
    "    X = X.copy()\n",
    "    categorical = X.copy()[['wife_education', 'husband_education', 'husband_occupation',\n",
    "       'standard_living', 'wife_religion']]\n",
    "    other = contra[['wife_age', 'num_child', \"wife_work\", \"media_exposure\"]]\n",
    "    #one hot encode the categorical data\n",
    "    encoder = preprocessing.OneHotEncoder()\n",
    "    one_hot = pd.DataFrame(encoder.fit_transform(categorical).toarray())\n",
    "    ohe_columns = [\"wife_edu1\", \"wife_edu2\", \"wife_edu3\", \"wife_edu4\", \"hus_edu1\", \"hus_edu2\", \"hus_edu3\", \"hus_edu4\", \n",
    "           \"hus_occ1\", \"hus_occ2\", \"hus_occ3\", \"hus_occ4\", \"std_living1\", \"std_living2\", \"std_living3\", \n",
    "           \"std_living4\", 'wife_religion1', 'wife_religion2']\n",
    "    one_hot.columns = ohe_columns\n",
    "    contra_clean = other.join(one_hot)\n",
    "    return featurize(contra_clean, columns = ['wife_age', 'num_child'])"
   ]
  },
  {
   "cell_type": "markdown",
   "metadata": {},
   "source": [
    "# EDA"
   ]
  },
  {
   "cell_type": "markdown",
   "metadata": {},
   "source": [
    "#### 1. Countplot representing the number of samples in each class."
   ]
  },
  {
   "cell_type": "code",
   "execution_count": 19,
   "metadata": {},
   "outputs": [
    {
     "data": {
      "text/plain": [
       "Text(0.5, 1.0, 'Number of Samples in Each Class')"
      ]
     },
     "execution_count": 19,
     "metadata": {},
     "output_type": "execute_result"
    },
    {
     "data": {
      "image/png": "[encoded data removed]",
      "text/plain": [
       "<Figure size 432x288 with 1 Axes>"
      ]
     },
     "metadata": {
      "needs_background": "light"
     },
     "output_type": "display_data"
    }
   ],
   "source": [
    "sns.countplot(data=contra, x = 'type')\n",
    "plt.title(\"Number of Samples in Each Class\")"
   ]
  },
  {
   "cell_type": "markdown",
   "metadata": {},
   "source": [
    "*The above countplot shows that there was an unbalanced distribution of the data. Most of the data points belong to the \"No Use\" and \"Short Term\" contraceptive classes.*"
   ]
  },
  {
   "cell_type": "markdown",
   "metadata": {},
   "source": [
    "#### 2. Correlation between Features"
   ]
  },
  {
   "cell_type": "code",
   "execution_count": 30,
   "metadata": {},
   "outputs": [
    {
     "data": {
      "text/plain": [
       "Text(0.5, 1.0, 'Heatmap of the given features')"
      ]
     },
     "execution_count": 30,
     "metadata": {},
     "output_type": "execute_result"
    },
    {
     "data": {
      "image/png": "[encoded data removed]",
      "text/plain": [
       "<Figure size 576x576 with 2 Axes>"
      ]
     },
     "metadata": {
      "needs_background": "light"
     },
     "output_type": "display_data"
    }
   ],
   "source": [
    "# Compute the correlation matrix\n",
    "corr = contra.copy().drop(columns=['contraceptive']).corr()\n",
    "\n",
    "#Generate a mask for the upper triangle\n",
    "mask = np.triu(np.ones_like(corr, dtype=np.bool))\n",
    "\n",
    "# Set up the matplotlib figure\n",
    "f, ax = plt.subplots(figsize=(8, 8))\n",
    "\n",
    "# Draw the heatmap with the mask and correct aspect ratio\n",
    "sns.heatmap(corr, mask=mask, cmap='coolwarm', vmax=.4, center=0).set_title(\"Correlation between features\")\n",
    "plt.title(\"Heatmap of the given features\")"
   ]
  },
  {
   "cell_type": "markdown",
   "metadata": {},
   "source": [
    "*A correlation heatmap was generated to compute the correlation coefficients of the features in the dataset. Based on the plot above, none of the features were highly correlated, so no features need to be dropped to avoid high variance*"
   ]
  },
  {
   "cell_type": "markdown",
   "metadata": {},
   "source": [
    "#### 3. PCA"
   ]
  },
  {
   "cell_type": "code",
   "execution_count": 31,
   "metadata": {},
   "outputs": [],
   "source": [
    "\"\"\"\n",
    "Plots the prinicipal comonents vs their variance proportion\n",
    "\"\"\"\n",
    "def pca_plot(df, plot = 'scree', with_std = True):\n",
    "    \n",
    "    df_std = standardize(df.copy(), with_std)\n",
    "    u, s, vt = np.linalg.svd(df_std, full_matrices=False)\n",
    "    print(s)\n",
    "    #pcs = df @ vt[:2].T\n",
    "    pcs = df @ vt.T\n",
    "    hues = contra['type']\n",
    "    if plot == 'scree':\n",
    "        plt.plot(range(1, len(s) + 1), s/sum(s))\n",
    "        plt.xticks(range(1, len(s) + 1))\n",
    "        plt.title(\"Proportion of Variance vs Principal Component #\")\n",
    "        plt.xlabel(\"Principal Component #\")\n",
    "        plt.ylabel(\"Proportion of Variance\");\n",
    "    elif plot == 'first':\n",
    "        #project data to first pc and plot\n",
    "        sns.stripplot(x = hues, y= pcs[0])\n",
    "        plt.title(\"Strip Plot of Principal Component 1\")\n",
    "        plt.ylabel(\"PC 1 Value\");\n",
    "    elif plot == 'second':\n",
    "        pcs = df @ vt[:2].T\n",
    "        fig = sns.scatterplot(x = pcs[0], y = pcs[1], hue = hues, palette = 'coolwarm', legend = 'full')\n",
    "        plt.xlabel(\"PC1\")\n",
    "        plt.ylabel(\"PC2\");\n",
    "    else:\n",
    "        raise Exception(\"Plot type '{}' does not exist\".format(plot))"
   ]
  },
  {
   "cell_type": "markdown",
   "metadata": {},
   "source": [
    "*The plot below shows that the variance of the data is very spread out across principal components. It  appears  that  each  principal  component  contributes  only a small percentage of the variance in the data. Beacause of this dimensionality reduction would likely be a bad choice.*"
   ]
  },
  {
   "cell_type": "code",
   "execution_count": 32,
   "metadata": {},
   "outputs": [
    {
     "name": "stdout",
     "output_type": "stream",
     "text": [
      "[7.31390185e+01 5.53013797e+01 4.80966229e+01 4.72021749e+01\n",
      " 4.55262977e+01 4.41844462e+01 4.13993919e+01 4.07851717e+01\n",
      " 3.88043860e+01 3.85776122e+01 3.72189068e+01 3.60953909e+01\n",
      " 3.33959790e+01 3.17158103e+01 2.69758085e+01 2.40384462e+01\n",
      " 2.27393518e-14 2.06077576e-14 1.35807963e-14 9.79719801e-15]\n"
     ]
    },
    {
     "data": {
      "image/png": "[encoded data removed]",
      "text/plain": [
       "<Figure size 432x288 with 1 Axes>"
      ]
     },
     "metadata": {
      "needs_background": "light"
     },
     "output_type": "display_data"
    }
   ],
   "source": [
    "pca_plot(design(contra, phi0))"
   ]
  },
  {
   "cell_type": "markdown",
   "metadata": {},
   "source": [
    "*The plot below is a strip plot of of the data projected on the first principal component.*"
   ]
  },
  {
   "cell_type": "code",
   "execution_count": 33,
   "metadata": {},
   "outputs": [
    {
     "name": "stdout",
     "output_type": "stream",
     "text": [
      "[7.31390185e+01 5.53013797e+01 4.80966229e+01 4.72021749e+01\n",
      " 4.55262977e+01 4.41844462e+01 4.13993919e+01 4.07851717e+01\n",
      " 3.88043860e+01 3.85776122e+01 3.72189068e+01 3.60953909e+01\n",
      " 3.33959790e+01 3.17158103e+01 2.69758085e+01 2.40384462e+01\n",
      " 2.27393518e-14 2.06077576e-14 1.35807963e-14 9.79719801e-15]\n"
     ]
    },
    {
     "data": {
      "image/png": "[encoded data removed]",
      "text/plain": [
       "<Figure size 432x288 with 1 Axes>"
      ]
     },
     "metadata": {
      "needs_background": "light"
     },
     "output_type": "display_data"
    }
   ],
   "source": [
    "pca_plot(design(contra, phi0), 'first')"
   ]
  },
  {
   "cell_type": "markdown",
   "metadata": {},
   "source": [
    "*The plot below shows the projection of the data on the first two principal components. Based on the plot, the variance in the data is widely spread. It is difficult to discern any sort of meaningful relationship between the projected data and the type of contraceptive used. This supports our previous claim that none of the features should be dropped.*"
   ]
  },
  {
   "cell_type": "code",
   "execution_count": 34,
   "metadata": {},
   "outputs": [
    {
     "name": "stdout",
     "output_type": "stream",
     "text": [
      "[7.31390185e+01 5.53013797e+01 4.80966229e+01 4.72021749e+01\n",
      " 4.55262977e+01 4.41844462e+01 4.13993919e+01 4.07851717e+01\n",
      " 3.88043860e+01 3.85776122e+01 3.72189068e+01 3.60953909e+01\n",
      " 3.33959790e+01 3.17158103e+01 2.69758085e+01 2.40384462e+01\n",
      " 2.27393518e-14 2.06077576e-14 1.35807963e-14 9.79719801e-15]\n"
     ]
    },
    {
     "data": {
      "text/plain": [
       "Text(0.5, 1.0, 'PCA using First 2 Principal Components')"
      ]
     },
     "execution_count": 34,
     "metadata": {},
     "output_type": "execute_result"
    },
    {
     "data": {
      "image/png": "[encoded data removed]",
      "text/plain": [
       "<Figure size 432x288 with 1 Axes>"
      ]
     },
     "metadata": {
      "needs_background": "light"
     },
     "output_type": "display_data"
    }
   ],
   "source": [
    "pca_plot(design(contra, phi0), \"second\")\n",
    "plt.title(\"PCA using First 2 Principal Components\")"
   ]
  },
  {
   "cell_type": "markdown",
   "metadata": {},
   "source": [
    "#### 4. More Data Visualizations"
   ]
  },
  {
   "cell_type": "markdown",
   "metadata": {},
   "source": [
    "*We were also interested in exploring the median age of the wife for all three classes.\n",
    "\n",
    "\n",
    "*Analyzing the data below, it appears that the age median of women in \"No use\", \"Long Term\", \"Short term\", was 32, 35 and 29 respectively.*\n"
   ]
  },
  {
   "cell_type": "code",
   "execution_count": 35,
   "metadata": {},
   "outputs": [
    {
     "data": {
      "text/plain": [
       "Text(0.5, 1.0, 'Box Plot of Wife Age vs Contraceptive Method Used')"
      ]
     },
     "execution_count": 35,
     "metadata": {},
     "output_type": "execute_result"
    },
    {
     "data": {
      "image/png": "[encoded data removed]",
      "text/plain": [
       "<Figure size 432x288 with 1 Axes>"
      ]
     },
     "metadata": {
      "needs_background": "light"
     },
     "output_type": "display_data"
    }
   ],
   "source": [
    "sns.boxplot(x = 'type', y = \"wife_age\", data = contra)\n",
    "plt.title(\"Box Plot of Wife Age vs Contraceptive Method Used\")"
   ]
  },
  {
   "cell_type": "markdown",
   "metadata": {},
   "source": [
    "*The plot below shows the proportion of Muslim and Non Muslim women for each contraceptive class. It can be clearly interepreted from the plot that most of the data represents Muslim women. This indicated a selection bias in the data.*\n",
    "\n",
    "*Because of this, it was decided to drop women's religion as a feature since it won't be helpful when designing the classification model. In other words, this feature won't give us any new information.*"
   ]
  },
  {
   "cell_type": "code",
   "execution_count": 36,
   "metadata": {
    "scrolled": true
   },
   "outputs": [
    {
     "data": {
      "text/plain": [
       "Text(0.5, 1.0, 'Proportion of Muslim and Non Muslim Women for each Contraceptive Method Used')"
      ]
     },
     "execution_count": 36,
     "metadata": {},
     "output_type": "execute_result"
    },
    {
     "data": {
      "image/png": "[encoded data removed]",
      "text/plain": [
       "<Figure size 432x288 with 1 Axes>"
      ]
     },
     "metadata": {
      "needs_background": "light"
     },
     "output_type": "display_data"
    }
   ],
   "source": [
    "contra['Wife Religion'] = contra['wife_religion'].replace({0:\"Not Muslim\", 1 : \"Muslim\"})\n",
    "def feature_percentage(feature):\n",
    "    temp = contra.groupby(['type'])[feature].value_counts().groupby('type') \\\n",
    "        .apply(lambda x:  x / float(x.sum()))\n",
    "    df = pd.DataFrame(temp)\n",
    "    return df.rename(columns = {feature : \"Proportion of \" + feature}).reset_index()\n",
    "df = feature_percentage(\"Wife Religion\")\n",
    "sns.barplot(x = \"type\", y = \"Proportion of Wife Religion\",  hue = \"Wife Religion\", data = df)\n",
    "plt.title(\"Proportion of Muslim and Non Muslim Women for each Contraceptive Method Used\")"
   ]
  },
  {
   "cell_type": "markdown",
   "metadata": {},
   "source": [
    "*The plots below shows the proportion of the husband's education, wife's education and standard of living in each contraceptive class respectively.*\n",
    "\n",
    "*It was was inferred from this plot that these features are extremely similar to one another in the \"No Use\" and \"Short Term\" class. This gives us the possibility of collapsing \"No Use\" and \"Short Term\" to one class.* "
   ]
  },
  {
   "cell_type": "code",
   "execution_count": 37,
   "metadata": {},
   "outputs": [
    {
     "data": {
      "text/plain": [
       "Text(0.5, 1.0, 'Proportion of Husband Education for each Contraceptive Method Used')"
      ]
     },
     "execution_count": 37,
     "metadata": {},
     "output_type": "execute_result"
    },
    {
     "data": {
      "image/png": "[encoded data removed]",
      "text/plain": [
       "<Figure size 432x288 with 1 Axes>"
      ]
     },
     "metadata": {
      "needs_background": "light"
     },
     "output_type": "display_data"
    }
   ],
   "source": [
    "df = feature_percentage(\"husband_education\")\n",
    "sns.barplot(x = \"type\", y = \"Proportion of husband_education\",  hue = \"husband_education\", data = df)\n",
    "plt.title(\"Proportion of Husband Education for each Contraceptive Method Used\")"
   ]
  },
  {
   "cell_type": "code",
   "execution_count": 38,
   "metadata": {},
   "outputs": [
    {
     "data": {
      "text/plain": [
       "Text(0.5, 1.0, 'Proportion of Wife Education for each Contraceptive Method Used')"
      ]
     },
     "execution_count": 38,
     "metadata": {},
     "output_type": "execute_result"
    },
    {
     "data": {
      "image/png": "[encoded data removed]",
      "text/plain": [
       "<Figure size 432x288 with 1 Axes>"
      ]
     },
     "metadata": {
      "needs_background": "light"
     },
     "output_type": "display_data"
    }
   ],
   "source": [
    "df = feature_percentage(\"wife_education\")\n",
    "sns.barplot(x = \"type\", y = \"Proportion of wife_education\",  hue = \"wife_education\", data = df)\n",
    "plt.title(\"Proportion of Wife Education for each Contraceptive Method Used\")"
   ]
  },
  {
   "cell_type": "code",
   "execution_count": 39,
   "metadata": {},
   "outputs": [
    {
     "data": {
      "text/plain": [
       "Text(0.5, 1.0, 'Standard of Living Proportions for each Contraceptive Method Used')"
      ]
     },
     "execution_count": 39,
     "metadata": {},
     "output_type": "execute_result"
    },
    {
     "data": {
      "image/png": "[encoded data removed]",
      "text/plain": [
       "<Figure size 432x288 with 1 Axes>"
      ]
     },
     "metadata": {
      "needs_background": "light"
     },
     "output_type": "display_data"
    }
   ],
   "source": [
    "df = feature_percentage(\"standard_living\")\n",
    "sns.barplot(x = \"type\", y = \"Proportion of standard_living\",  hue = \"standard_living\", data = df)\n",
    "plt.title(\"Standard of Living Proportions for each Contraceptive Method Used\")"
   ]
  },
  {
   "cell_type": "markdown",
   "metadata": {},
   "source": [
    "Standard of Living, Wife Edu, Husband Edu, all have very high percentages in the 'best' score for these long term, while short term is not as high. Maybe rich, more educated people tend to use birth\n",
    "control more long term then short term, so even though the proportion of long term data is lower then short term, it may be easier to predict long term since so many of the long term ppl are so distincly educated and wealthy. This references the unexpected outcome of precision for short term vs long term. The no use was as expected, also was the highest proportion so the sheer amount of data likely overpowered the predictive power of long term. Note: This descrepancy occured in random forests but not in logistic regression."
   ]
  },
  {
   "cell_type": "markdown",
   "metadata": {},
   "source": [
    "#### 5. Split cleaned data into train and test data"
   ]
  },
  {
   "cell_type": "markdown",
   "metadata": {},
   "source": [
    "*The data was split into 90% training data and 10% test data.*"
   ]
  },
  {
   "cell_type": "code",
   "execution_count": 40,
   "metadata": {},
   "outputs": [],
   "source": [
    "X_train, X_test, y_train, y_test = train_test_split(design(contra, phi0), contra[['type']], test_size = .1, random_state = 42)"
   ]
  },
  {
   "cell_type": "markdown",
   "metadata": {},
   "source": [
    "# Model 1. Logistic Regression"
   ]
  },
  {
   "cell_type": "code",
   "execution_count": 43,
   "metadata": {},
   "outputs": [],
   "source": [
    "logistic_model = LogisticRegressionCV(multi_class = 'auto', random_state=42)\n",
    "logistic_model.fit(X_train, y_train)\n",
    "y_hat = logistic_model.predict(X_train)"
   ]
  },
  {
   "cell_type": "markdown",
   "metadata": {},
   "source": [
    "##### Avergage Validation Accuracy"
   ]
  },
  {
   "cell_type": "code",
   "execution_count": 44,
   "metadata": {},
   "outputs": [
    {
     "name": "stdout",
     "output_type": "stream",
     "text": [
      "Final Training Accuracy: 0.5154716981132076\n",
      "Final Validation Accuacy: 0.5079245283018868\n"
     ]
    }
   ],
   "source": [
    "cross_val_avg = np.mean(cross_val_score(logistic_model, X_train, y_train))\n",
    "print(\"Final Training Accuracy:\", accuracy_score(y_hat, y_train))\n",
    "print(\"Final Validation Accuacy:\", cross_val_avg)"
   ]
  },
  {
   "cell_type": "markdown",
   "metadata": {},
   "source": [
    "##### Precision vs Recall vs Accuracy of Test Data"
   ]
  },
  {
   "cell_type": "code",
   "execution_count": 23,
   "metadata": {},
   "outputs": [
    {
     "name": "stdout",
     "output_type": "stream",
     "text": [
      "              precision    recall  f1-score   support\n",
      "\n",
      "   Long Term       0.56      0.29      0.38        35\n",
      "      No Use       0.63      0.68      0.65        69\n",
      "  Short Term       0.42      0.52      0.46        44\n",
      "\n",
      "    accuracy                           0.54       148\n",
      "   macro avg       0.53      0.50      0.50       148\n",
      "weighted avg       0.55      0.54      0.53       148\n",
      "\n"
     ]
    }
   ],
   "source": [
    "logistic_model.fit(X_train, y_train)\n",
    "y_hat_test = logistic_model.predict(X_test)\n",
    "print(classification_report(y_test, y_hat_test))"
   ]
  },
  {
   "cell_type": "code",
   "execution_count": 24,
   "metadata": {},
   "outputs": [
    {
     "name": "stdout",
     "output_type": "stream",
     "text": [
      "Final Test Accuracy: 0.5405405405405406\n"
     ]
    }
   ],
   "source": [
    "y_hat_test = logistic_model.predict(X_test)\n",
    "print(\"Final Test Accuracy:\", accuracy_score(y_test, y_hat_test))"
   ]
  },
  {
   "cell_type": "markdown",
   "metadata": {},
   "source": [
    "*A confusion matrix measures the performance of an machine learning algorithm. Each row of the confusion matrix represents the instances of an actual class and each column represents the instances of a predicted class.*"
   ]
  },
  {
   "cell_type": "code",
   "execution_count": 25,
   "metadata": {},
   "outputs": [
    {
     "data": {
      "text/plain": [
       "<sklearn.metrics._plot.confusion_matrix.ConfusionMatrixDisplay at 0x7fa1828b44a8>"
      ]
     },
     "execution_count": 25,
     "metadata": {},
     "output_type": "execute_result"
    },
    {
     "data": {
      "image/png": "[encoded data removed]",
      "text/plain": [
       "<Figure size 432x288 with 2 Axes>"
      ]
     },
     "metadata": {
      "needs_background": "light"
     },
     "output_type": "display_data"
    }
   ],
   "source": [
    "plot_confusion_matrix(logistic_model, X_test, y_test)"
   ]
  },
  {
   "cell_type": "markdown",
   "metadata": {},
   "source": [
    "*Below are common functions used by decison tree and random forest*"
   ]
  },
  {
   "cell_type": "code",
   "execution_count": 26,
   "metadata": {},
   "outputs": [],
   "source": [
    "\"\"\"\n",
    "Returns a naive simple decision tree or random forest classifier\n",
    "\"\"\"\n",
    "def simple_model(model_name):\n",
    "    train_acc, val_acc, test_acc = 0,0,0\n",
    "    if model_name == 'decision tree':\n",
    "        model = DecisionTreeClassifier(random_state = 10)\n",
    "    elif model_name == 'random forest':\n",
    "        model = RandomForestClassifier(random_state = 10)\n",
    "    model.fit(X_train, y_train)\n",
    "    train_acc = accuracy_score(y_train, model.predict(X_train))\n",
    "    val_acc = np.mean(cross_val_score(model, X_train, y_train))\n",
    "    test_acc = accuracy_score(y_test, y_hat_test)\n",
    "    return train_acc, val_acc, test_acc"
   ]
  },
  {
   "cell_type": "code",
   "execution_count": 27,
   "metadata": {},
   "outputs": [],
   "source": [
    "\"\"\"\n",
    "Plots the training vs validation accuracy for feature being tuned.\n",
    "\"\"\"\n",
    "def plot_graph(train_accuracy, val_accuracies, x_axis, name):\n",
    "    plt.plot(x_axis, train_accuracy, label = \"Training Accuracy\")\n",
    "    plt.plot(x_axis, val_accuracies, label = \"Validation Accuracy\")\n",
    "    plt.legend(loc='best')\n",
    "    if name == \"Feature Functions\":\n",
    "        plt.xticks(rotation=45)\n",
    "    plt.ylabel('Accuracy')\n",
    "    plt.title(\"Training & Validation Accuracy vs {}\".format(name))\n",
    "    plt.xlabel(name)"
   ]
  },
  {
   "cell_type": "code",
   "execution_count": 28,
   "metadata": {},
   "outputs": [],
   "source": [
    "\"\"\"\n",
    "Returns training and validation accuracy of the model for different max depth value\n",
    "\"\"\"\n",
    "def max_depth_tuning(model_name, max_depth, best_n_estimator = 1000):\n",
    "    val_accuracies = []\n",
    "    train_accuracies = []\n",
    "    for d in max_depth:\n",
    "        if model_name == 'decision tree':\n",
    "            model = DecisionTreeClassifier(max_depth = d, random_state = 10)\n",
    "        elif model_name == 'random forest':\n",
    "            model = RandomForestClassifier(n_estimators = best_n_estimator, max_depth = d, random_state = 10)\n",
    "        model.fit(X_train, y_train)\n",
    "        train_accuracies.append(accuracy_score(y_train, model.predict(X_train)))\n",
    "        cross_val_avg = np.mean(cross_val_score(model, X_train, y_train))\n",
    "        val_accuracies.append(cross_val_avg)\n",
    "    return train_accuracies, val_accuracies"
   ]
  },
  {
   "cell_type": "markdown",
   "metadata": {},
   "source": [
    "# Model 2. Decision Tree"
   ]
  },
  {
   "cell_type": "markdown",
   "metadata": {},
   "source": [
    "### Attempt #1: Simple Naive model"
   ]
  },
  {
   "cell_type": "code",
   "execution_count": 29,
   "metadata": {},
   "outputs": [
    {
     "name": "stdout",
     "output_type": "stream",
     "text": [
      "Training Accuracy 0.9471698113207547\n",
      "Validation Accuracy 0.4777358490566038\n"
     ]
    }
   ],
   "source": [
    "train_acc, val_acc, test_acc = simple_model(\"decision tree\")\n",
    "print(\"Training Accuracy\", train_acc)\n",
    "print(\"Validation Accuracy\", val_acc)"
   ]
  },
  {
   "cell_type": "markdown",
   "metadata": {},
   "source": [
    "### Attempt #2: Tuning max depth"
   ]
  },
  {
   "cell_type": "code",
   "execution_count": 30,
   "metadata": {},
   "outputs": [
    {
     "name": "stdout",
     "output_type": "stream",
     "text": [
      "We get the best validation accuracy at depth 4 with validation accuracy 0.5411320754716982\n"
     ]
    },
    {
     "data": {
      "image/png": "[encoded data removed]",
      "text/plain": [
       "<Figure size 432x288 with 1 Axes>"
      ]
     },
     "metadata": {
      "needs_background": "light"
     },
     "output_type": "display_data"
    }
   ],
   "source": [
    "depth_range = np.arange(1,20)\n",
    "train_acc, val_acc = max_depth_tuning(\"decision tree\", depth_range)\n",
    "plot_graph(train_acc,val_acc, depth_range, \"Depth\")\n",
    "best_depth = depth_range[np.argmax(val_acc)]\n",
    "print(\"We get the best validation accuracy at depth {} with validation accuracy {}\".format(best_depth, max(val_acc)))"
   ]
  },
  {
   "cell_type": "markdown",
   "metadata": {},
   "source": [
    "### Attempt #3: Tuning min sample split"
   ]
  },
  {
   "cell_type": "markdown",
   "metadata": {},
   "source": [
    "*Based on our previous result, we achieve the maximum validation accuracy at depth 4*\n",
    "\n",
    "*We will fix depth to be 4 in the following min sample split feature tuning*"
   ]
  },
  {
   "cell_type": "code",
   "execution_count": 31,
   "metadata": {},
   "outputs": [],
   "source": [
    "min_splits = np.linspace(0.1, 1.0, 10, endpoint=True)\n",
    "def min_sample_tuning(min_splits):\n",
    "    val_accuracies = []\n",
    "    train_accuracies = []\n",
    "    for s in min_splits:\n",
    "        dt= DecisionTreeClassifier(min_samples_split= s ,max_depth = 4 , random_state = 10)\n",
    "        dt.fit(X_train, y_train)\n",
    "        train_accuracies.append(accuracy_score(y_train, dt.predict(X_train)))\n",
    "        cross_val_avg = np.mean(cross_val_score(dt, X_train, y_train))\n",
    "        val_accuracies.append(cross_val_avg)\n",
    "    return train_accuracies, val_accuracies"
   ]
  },
  {
   "cell_type": "code",
   "execution_count": 32,
   "metadata": {
    "scrolled": true
   },
   "outputs": [
    {
     "name": "stdout",
     "output_type": "stream",
     "text": [
      "We get the best validation accuracy with 0.1 min samples split fraction and with validation accuracy 0.5426415094339623\n"
     ]
    },
    {
     "data": {
      "image/png": "[encoded data removed]",
      "text/plain": [
       "<Figure size 432x288 with 1 Axes>"
      ]
     },
     "metadata": {
      "needs_background": "light"
     },
     "output_type": "display_data"
    }
   ],
   "source": [
    "train_acc, val_acc = min_sample_tuning(min_splits)\n",
    "plot_graph(train_acc, val_acc, min_splits, \"Min Sample Split Fraction\")\n",
    "best_split = min_splits[np.argmax(val_acc)]\n",
    "print(\"We get the best validation accuracy with {} min samples split fraction and with validation accuracy {}\" \\\n",
    "      .format(best_split, max(val_acc)))"
   ]
  },
  {
   "cell_type": "markdown",
   "metadata": {},
   "source": [
    "*As we can see, upon tuning the max_feature parameter, our model validation accuracy slightly improved to 0.542*\n",
    "\n",
    "*In conclusion, using a single a decision tree does not provide good prediction results due to high Variance. One way to solve this is to consider a random forest which relies on randomized decision trees on random subsamples. Random Forest relies on the concept of taking the majority of votes when it comes to prediction which should be expected to reduce variance.*"
   ]
  },
  {
   "cell_type": "markdown",
   "metadata": {},
   "source": [
    "# Model 3. Random Forest"
   ]
  },
  {
   "cell_type": "markdown",
   "metadata": {},
   "source": [
    "### Attempt #1: Simple Naive model"
   ]
  },
  {
   "cell_type": "code",
   "execution_count": 33,
   "metadata": {},
   "outputs": [
    {
     "name": "stdout",
     "output_type": "stream",
     "text": [
      "Training Accuracy 0.9471698113207547\n",
      "Validation Accuracy 0.5162264150943396\n"
     ]
    }
   ],
   "source": [
    "train_acc, val_acc, test_acc = simple_model(\"random forest\")\n",
    "print(\"Training Accuracy\", train_acc)\n",
    "print(\"Validation Accuracy\", val_acc)"
   ]
  },
  {
   "cell_type": "markdown",
   "metadata": {},
   "source": [
    "*Our simple model for random forest achieved 0.5162 average validation accuracy which was much higher than the simple model of decision trees!*"
   ]
  },
  {
   "cell_type": "markdown",
   "metadata": {},
   "source": [
    "### Attempt #2:  Tuning number of trees"
   ]
  },
  {
   "cell_type": "code",
   "execution_count": 34,
   "metadata": {},
   "outputs": [],
   "source": [
    "def num_trees_tuning(n_estimators):\n",
    "    val_accuracies, train_accuracies = [], []\n",
    "    for n in n_estimators:\n",
    "        rf = RandomForestClassifier(n_estimators = n, bootstrap = True, random_state = 10)\n",
    "        rf.fit(X_train, y_train)\n",
    "        train_accuracies.append(accuracy_score(y_train, rf.predict(X_train)))\n",
    "        cross_val_avg = np.mean(cross_val_score(rf, X_train, y_train))\n",
    "        val_accuracies.append(cross_val_avg)\n",
    "    return train_accuracies, val_accuracies"
   ]
  },
  {
   "cell_type": "code",
   "execution_count": 35,
   "metadata": {},
   "outputs": [
    {
     "name": "stdout",
     "output_type": "stream",
     "text": [
      "We get the best validation accuracy with 560 number of trees and  with validation accuracy 0.5230188679245283\n"
     ]
    },
    {
     "data": {
      "image/png": "[encoded data removed]",
      "text/plain": [
       "<Figure size 432x288 with 1 Axes>"
      ]
     },
     "metadata": {
      "needs_background": "light"
     },
     "output_type": "display_data"
    }
   ],
   "source": [
    "n_estimators = np.arange(20,1000, 20)\n",
    "train_acc, val_acc = num_trees_tuning(n_estimators)\n",
    "plot_graph(train_acc, val_acc, n_estimators, 'Number of Trees')\n",
    "best_num = n_estimators[np.argmax(val_acc)]\n",
    "print(\"We get the best validation accuracy with {} number of trees and  with validation accuracy {}\".format(best_num, max(val_acc)))"
   ]
  },
  {
   "cell_type": "markdown",
   "metadata": {},
   "source": [
    "### Attempt #3: Max Depth Tuning"
   ]
  },
  {
   "cell_type": "markdown",
   "metadata": {},
   "source": [
    "*Based on our previous result, we achieve the maximum validation accuracy at 560 decision trees*\n",
    "\n",
    "*We will fix n_estimators at 560 in the following max depth tuning*"
   ]
  },
  {
   "cell_type": "code",
   "execution_count": 36,
   "metadata": {},
   "outputs": [
    {
     "name": "stdout",
     "output_type": "stream",
     "text": [
      "We get the best validation accuracy at depth 9 with validation accuracy 0.5539622641509434\n"
     ]
    },
    {
     "data": {
      "image/png": "[encoded data removed]",
      "text/plain": [
       "<Figure size 432x288 with 1 Axes>"
      ]
     },
     "metadata": {
      "needs_background": "light"
     },
     "output_type": "display_data"
    }
   ],
   "source": [
    "depth_range = np.arange(1,20)\n",
    "train_acc, val_acc = max_depth_tuning(\"random forest\", depth_range, 560)\n",
    "plot_graph(train_acc,val_acc, depth_range, \"Depth\")\n",
    "best_depth = depth_range[np.argmax(val_acc)]\n",
    "print(\"We get the best validation accuracy at depth {} with validation accuracy {}\".format(best_depth, max(val_acc)))"
   ]
  },
  {
   "cell_type": "markdown",
   "metadata": {},
   "source": [
    "*After max depth tuning, we achieved our best validation accuracy so far at 0.5539.* \n",
    "\n",
    "*This was achieved with 560 trees and max depth 9*"
   ]
  },
  {
   "cell_type": "markdown",
   "metadata": {},
   "source": [
    "### Attempt #4: Mixed Hyperparameter Tuning"
   ]
  },
  {
   "cell_type": "markdown",
   "metadata": {},
   "source": [
    "*RandomSearchCV does not work properly with string class values. Thus,\n",
    "the class values were temporarily converted to their original float values.*"
   ]
  },
  {
   "cell_type": "code",
   "execution_count": 37,
   "metadata": {},
   "outputs": [],
   "source": [
    "X_train_f, X_test_f, y_train_f, y_test_f = \\\n",
    "    train_test_split(design(contra, phi0), contra[['contraceptive']], test_size = .1, random_state = 42)"
   ]
  },
  {
   "cell_type": "markdown",
   "metadata": {},
   "source": [
    "#### 1. Random Parameter Grid"
   ]
  },
  {
   "cell_type": "code",
   "execution_count": 38,
   "metadata": {},
   "outputs": [],
   "source": [
    "#number of trees in random forest\n",
    "n_estimators = np.arange(100, 400, 20)\n",
    "\n",
    "#depth of the tree\n",
    "max_depth = np.arange(1,20)\n",
    "\n",
    "#random grid\n",
    "random_grid = {'n_estimators': n_estimators,\n",
    "               'max_depth': max_depth}"
   ]
  },
  {
   "cell_type": "code",
   "execution_count": 39,
   "metadata": {
    "scrolled": true
   },
   "outputs": [
    {
     "name": "stdout",
     "output_type": "stream",
     "text": [
      "Fitting 3 folds for each of 18 candidates, totalling 54 fits\n"
     ]
    },
    {
     "name": "stderr",
     "output_type": "stream",
     "text": [
      "[Parallel(n_jobs=-1)]: Using backend LokyBackend with 4 concurrent workers.\n",
      "[Parallel(n_jobs=-1)]: Done  33 tasks      | elapsed:    4.1s\n",
      "[Parallel(n_jobs=-1)]: Done  54 out of  54 | elapsed:    6.1s finished\n"
     ]
    },
    {
     "data": {
      "text/plain": [
       "RandomizedSearchCV(cv=3, error_score=nan,\n",
       "                   estimator=RandomForestClassifier(bootstrap=True,\n",
       "                                                    ccp_alpha=0.0,\n",
       "                                                    class_weight=None,\n",
       "                                                    criterion='gini',\n",
       "                                                    max_depth=None,\n",
       "                                                    max_features='auto',\n",
       "                                                    max_leaf_nodes=None,\n",
       "                                                    max_samples=None,\n",
       "                                                    min_impurity_decrease=0.0,\n",
       "                                                    min_impurity_split=None,\n",
       "                                                    min_samples_leaf=1,\n",
       "                                                    min_samples_split=2,\n",
       "                                                    min_weight_fraction_leaf=0.0,\n",
       "                                                    n_estimators=100,\n",
       "                                                    n_jobs...\n",
       "                                                    random_state=10, verbose=0,\n",
       "                                                    warm_start=False),\n",
       "                   iid='deprecated', n_iter=18, n_jobs=-1,\n",
       "                   param_distributions={'max_depth': array([ 1,  2,  3,  4,  5,  6,  7,  8,  9, 10, 11, 12, 13, 14, 15, 16, 17,\n",
       "       18, 19]),\n",
       "                                        'n_estimators': array([100, 120, 140, 160, 180, 200, 220, 240, 260, 280, 300, 320, 340,\n",
       "       360, 380])},\n",
       "                   pre_dispatch='2*n_jobs', random_state=None, refit=True,\n",
       "                   return_train_score=False, scoring=None, verbose=2)"
      ]
     },
     "execution_count": 39,
     "metadata": {},
     "output_type": "execute_result"
    }
   ],
   "source": [
    "# Use the random grid to search for best hyperparameters\n",
    "rf = RandomForestClassifier(random_state = 10)\n",
    "# Random search of parameters, using 3 fold cross validation, \n",
    "rf_random = RandomizedSearchCV(estimator = rf, param_distributions = random_grid, n_iter = 18, cv = 3, verbose=2, n_jobs = -1)\n",
    "# Fit the random search model\n",
    "rf_random.fit(X_train_f, y_train_f)"
   ]
  },
  {
   "cell_type": "code",
   "execution_count": 40,
   "metadata": {},
   "outputs": [
    {
     "data": {
      "text/plain": [
       "{'n_estimators': 240, 'max_depth': 6}"
      ]
     },
     "execution_count": 40,
     "metadata": {},
     "output_type": "execute_result"
    }
   ],
   "source": [
    "rf_random.best_params_"
   ]
  },
  {
   "cell_type": "markdown",
   "metadata": {},
   "source": [
    "#### 2. Grid Search"
   ]
  },
  {
   "cell_type": "code",
   "execution_count": 41,
   "metadata": {},
   "outputs": [],
   "source": [
    "# Create the parameter grid based on the results of random search \n",
    "param_grid = {\n",
    "    'max_depth': [4,5,6],\n",
    "    'n_estimators': [110,120,130]\n",
    "}\n"
   ]
  },
  {
   "cell_type": "code",
   "execution_count": 42,
   "metadata": {
    "scrolled": true
   },
   "outputs": [
    {
     "name": "stdout",
     "output_type": "stream",
     "text": [
      "Fitting 3 folds for each of 9 candidates, totalling 27 fits\n"
     ]
    },
    {
     "name": "stderr",
     "output_type": "stream",
     "text": [
      "[Parallel(n_jobs=-1)]: Using backend LokyBackend with 4 concurrent workers.\n",
      "[Parallel(n_jobs=-1)]: Done  20 out of  27 | elapsed:    0.9s remaining:    0.3s\n",
      "[Parallel(n_jobs=-1)]: Done  27 out of  27 | elapsed:    1.1s finished\n"
     ]
    },
    {
     "data": {
      "text/plain": [
       "GridSearchCV(cv=3, error_score=nan,\n",
       "             estimator=RandomForestClassifier(bootstrap=True, ccp_alpha=0.0,\n",
       "                                              class_weight=None,\n",
       "                                              criterion='gini', max_depth=None,\n",
       "                                              max_features='auto',\n",
       "                                              max_leaf_nodes=None,\n",
       "                                              max_samples=None,\n",
       "                                              min_impurity_decrease=0.0,\n",
       "                                              min_impurity_split=None,\n",
       "                                              min_samples_leaf=1,\n",
       "                                              min_samples_split=2,\n",
       "                                              min_weight_fraction_leaf=0.0,\n",
       "                                              n_estimators=100, n_jobs=None,\n",
       "                                              oob_score=False, random_state=10,\n",
       "                                              verbose=0, warm_start=False),\n",
       "             iid='deprecated', n_jobs=-1,\n",
       "             param_grid={'max_depth': [4, 5, 6],\n",
       "                         'n_estimators': [110, 120, 130]},\n",
       "             pre_dispatch='2*n_jobs', refit=True, return_train_score=False,\n",
       "             scoring=None, verbose=2)"
      ]
     },
     "execution_count": 42,
     "metadata": {},
     "output_type": "execute_result"
    }
   ],
   "source": [
    "from sklearn.model_selection import GridSearchCV\n",
    "\n",
    "rf = RandomForestClassifier(random_state = 10)\n",
    "# Instantiate the grid search model\n",
    "grid_search = GridSearchCV(estimator = rf, param_grid = param_grid, cv = 3, n_jobs = -1, verbose = 2)\n",
    "\n",
    "# Fit the grid search to the data\n",
    "grid_search.fit(X_train_f, y_train_f)"
   ]
  },
  {
   "cell_type": "code",
   "execution_count": 43,
   "metadata": {},
   "outputs": [
    {
     "data": {
      "text/plain": [
       "{'max_depth': 6, 'n_estimators': 110}"
      ]
     },
     "execution_count": 43,
     "metadata": {},
     "output_type": "execute_result"
    }
   ],
   "source": [
    "grid_search.best_params_"
   ]
  },
  {
   "cell_type": "markdown",
   "metadata": {},
   "source": [
    "#### 3. Design the model based on the optimal parameters found"
   ]
  },
  {
   "cell_type": "code",
   "execution_count": 44,
   "metadata": {},
   "outputs": [],
   "source": [
    "rf_best = RandomForestClassifier(n_estimators=110, max_depth = 6, random_state=10)"
   ]
  },
  {
   "cell_type": "code",
   "execution_count": 45,
   "metadata": {},
   "outputs": [],
   "source": [
    "cross_val_avg = np.mean(cross_val_score(rf_best, X_train, y_train))"
   ]
  },
  {
   "cell_type": "code",
   "execution_count": 46,
   "metadata": {},
   "outputs": [
    {
     "name": "stdout",
     "output_type": "stream",
     "text": [
      "Random Forest Cross Val Score for attempt #4\n"
     ]
    },
    {
     "data": {
      "text/plain": [
       "0.5524528301886792"
      ]
     },
     "execution_count": 46,
     "metadata": {},
     "output_type": "execute_result"
    }
   ],
   "source": [
    "print(\"Random Forest Cross Val Score for attempt #4\")\n",
    "cross_val_avg"
   ]
  },
  {
   "cell_type": "markdown",
   "metadata": {},
   "source": [
    "## More Feature Engineering"
   ]
  },
  {
   "cell_type": "markdown",
   "metadata": {},
   "source": [
    "*Now we will try lifting the continuous variables to \n",
    "a new feature using various transformations*"
   ]
  },
  {
   "cell_type": "code",
   "execution_count": 47,
   "metadata": {},
   "outputs": [],
   "source": [
    "def phi1(X, columns):\n",
    "    \n",
    "    for column in columns:\n",
    "        X[column] = standardize(X[[column]])[column]\n",
    "        X['tanh(' + column + ')'] = np.tanh(X[column])\n",
    "        \n",
    "    return X\n",
    "\n",
    "def phi2(X, columns):\n",
    "\n",
    "    for column in columns:\n",
    "        X[column] = standardize(X[[column]])[column]\n",
    "        X['tanh(' + column + ')'] = np.tanh(X[column])\n",
    "        X[column + \"^2\"] = X[column]**2\n",
    "        \n",
    "    return X\n",
    "\n",
    "def phi3(X, columns):\n",
    "\n",
    "    for column in columns:\n",
    "        X[column] = standardize(X[[column]])[column]\n",
    "        X['tanh(' + column + ')'] = np.tanh(X[column])\n",
    "        X[column + \"^2\"] = X[column]**2\n",
    "        X[column + \"^3\"] = X[column]**3\n",
    "        \n",
    "    return X\n",
    "\n",
    "def phi4(X, columns):\n",
    "    \n",
    "    for column in columns:\n",
    "        X[column] = standardize(X[[column]])[column]\n",
    "        X['tanh(' + column + ')'] = np.tanh(X[column])\n",
    "        X[column + \"^2\"] = X[column]**2\n",
    "        X[column + \"^3\"] = X[column]**3\n",
    "        X[column + \"^4\"] = X[column]**4\n",
    "        \n",
    "    return X\n",
    "\n",
    "def phi5(X, columns):\n",
    "\n",
    "    for column in columns:\n",
    "        X[column] = standardize(X[[column]])[column]\n",
    "        X['tanh(' + column + ')'] = np.tanh(X[column])\n",
    "        X[column + \"^2\"] = X[column]**2\n",
    "        X[column + \"^3\"] = X[column]**3\n",
    "        X[column + \"^4\"] = X[column]**4\n",
    "        X[column + \"^5\"] = X[column]**5\n",
    "        \n",
    "    return X\n",
    "\n",
    "def phi_ellipsoid(X, columns):\n",
    "    \n",
    "    for i in columns:\n",
    "        X[i] = standardize(X[[i]])[i]\n",
    "        for j in columns:\n",
    "            if i == j:\n",
    "                X[i + \"^2\"] = X[i]**2\n",
    "            else:\n",
    "                X[i + \" * \" + j] = X[i] * X[j]\n",
    "    return X\n",
    "                \n",
    "def parabaloid(X, columns):\n",
    "    \n",
    "    for column in columns:\n",
    "        X[column] = standardize(X[[column]])[column]\n",
    "        X['norm^2_of_' + column] = np.linalg.norm(X[column])**2\n",
    "        \n",
    "    return X\n",
    "\n",
    "feature_funcs = [phi0, phi1, phi2, phi3, phi4, phi5, phi_ellipsoid, parabaloid]\n",
    "\n"
   ]
  },
  {
   "cell_type": "code",
   "execution_count": 48,
   "metadata": {},
   "outputs": [],
   "source": [
    "val_acc, train_acc = [], []\n",
    "func_names = ['phi0', 'phi1', 'phi2', 'phi3', 'phi4', 'phi5', 'phi_ellipsoid', 'parabaloid']\n",
    "for phi in feature_funcs:\n",
    "    X_train, X_test, y_train, y_test = \\\n",
    "        train_test_split(design(contra, phi), contra[['type']], test_size = .1, random_state = 42)\n",
    "    rf_best.fit(X_train, y_train)\n",
    "    train_acc.append(accuracy_score(y_train, rf_best.predict(X_train)))\n",
    "    cross_val_avg = np.mean(cross_val_score(rf_best, X_train, y_train))\n",
    "    val_acc.append(cross_val_avg)"
   ]
  },
  {
   "cell_type": "code",
   "execution_count": 49,
   "metadata": {},
   "outputs": [
    {
     "data": {
      "image/png": "[encoded data removed]",
      "text/plain": [
       "<Figure size 432x288 with 1 Axes>"
      ]
     },
     "metadata": {
      "needs_background": "light"
     },
     "output_type": "display_data"
    }
   ],
   "source": [
    "plot_graph(train_acc, val_acc, func_names, \"Feature Functions\")"
   ]
  },
  {
   "cell_type": "code",
   "execution_count": 50,
   "metadata": {},
   "outputs": [
    {
     "name": "stdout",
     "output_type": "stream",
     "text": [
      "The best performing feature function was phi1\n"
     ]
    }
   ],
   "source": [
    "print(\"The best performing feature function was {}\".format(func_names[np.argmax(val_acc)]))"
   ]
  },
  {
   "cell_type": "code",
   "execution_count": 51,
   "metadata": {},
   "outputs": [
    {
     "data": {
      "text/plain": [
       "[0.5524528301886792,\n",
       " 0.5720754716981132,\n",
       " 0.5675471698113207,\n",
       " 0.570566037735849,\n",
       " 0.5675471698113207,\n",
       " 0.5690566037735849,\n",
       " 0.5667924528301886,\n",
       " 0.5441509433962264]"
      ]
     },
     "execution_count": 51,
     "metadata": {},
     "output_type": "execute_result"
    }
   ],
   "source": [
    "val_acc"
   ]
  },
  {
   "cell_type": "code",
   "execution_count": 52,
   "metadata": {},
   "outputs": [],
   "source": [
    "X_train, X_test, y_train, y_test = \\\n",
    "        train_test_split(design(contra, phi1), contra[['type']], test_size = .1, random_state = 42)\n",
    "rf_best.fit(X_train, y_train)\n",
    "y_hat_train = rf_best.predict(X_train)\n"
   ]
  },
  {
   "cell_type": "markdown",
   "metadata": {},
   "source": [
    "*Confusion Matrix for the best Random Forest Algorithm using the best feature function phi1*"
   ]
  },
  {
   "cell_type": "code",
   "execution_count": 53,
   "metadata": {},
   "outputs": [
    {
     "data": {
      "text/plain": [
       "<sklearn.metrics._plot.confusion_matrix.ConfusionMatrixDisplay at 0x7fa18005fcc0>"
      ]
     },
     "execution_count": 53,
     "metadata": {},
     "output_type": "execute_result"
    },
    {
     "data": {
      "image/png": "[encoded data removed]",
      "text/plain": [
       "<Figure size 432x288 with 2 Axes>"
      ]
     },
     "metadata": {
      "needs_background": "light"
     },
     "output_type": "display_data"
    }
   ],
   "source": [
    "plot_confusion_matrix(rf_best, X_test, y_test)"
   ]
  },
  {
   "cell_type": "code",
   "execution_count": 54,
   "metadata": {},
   "outputs": [
    {
     "name": "stdout",
     "output_type": "stream",
     "text": [
      "Training Accuracy: 0.6316981132075472\n",
      "Validation Accuracy: 0.5720754716981132\n"
     ]
    }
   ],
   "source": [
    "print(\"Training Accuracy:\", accuracy_score(y_train, y_hat_train))\n",
    "print(\"Validation Accuracy:\", np.mean(cross_val_score(rf_best, X_train, y_train)))"
   ]
  },
  {
   "cell_type": "markdown",
   "metadata": {},
   "source": [
    "*As a final check, religion was added as a feature to see how it would perform.*"
   ]
  },
  {
   "cell_type": "code",
   "execution_count": 55,
   "metadata": {},
   "outputs": [],
   "source": [
    "X_train_religion, X_test_religion, y_train_religion, y_test_religion = \\\n",
    "    train_test_split(design_with_religion(contra, phi1), contra[['type']], test_size = .1, random_state = 42)"
   ]
  },
  {
   "cell_type": "code",
   "execution_count": 56,
   "metadata": {},
   "outputs": [],
   "source": [
    "cross_val_avg_religion = np.mean(cross_val_score(rf_best, X_train_religion, y_train_religion))"
   ]
  },
  {
   "cell_type": "code",
   "execution_count": 57,
   "metadata": {},
   "outputs": [
    {
     "data": {
      "text/plain": [
       "0.5577358490566038"
      ]
     },
     "execution_count": 57,
     "metadata": {},
     "output_type": "execute_result"
    }
   ],
   "source": [
    "cross_val_avg_religion"
   ]
  },
  {
   "cell_type": "markdown",
   "metadata": {},
   "source": [
    "*Adding religion as a feature performed worse, as expected*"
   ]
  },
  {
   "cell_type": "markdown",
   "metadata": {},
   "source": [
    "*After utilizing Random Search and Grid Search to tune our hyperparameters, \n",
    "we concluded that using 110 trees, a max depth of 6, the default minimum samples \n",
    "split, and feature function phi1 (without religion) optimized our accuracy of our random forest model.*"
   ]
  },
  {
   "cell_type": "code",
   "execution_count": 58,
   "metadata": {},
   "outputs": [
    {
     "name": "stdout",
     "output_type": "stream",
     "text": [
      "Test Accuracy: 0.6013513513513513\n"
     ]
    }
   ],
   "source": [
    "y_hat_test = rf_best.predict(X_test)\n",
    "print(\"Test Accuracy:\", accuracy_score(y_test, y_hat_test))"
   ]
  },
  {
   "cell_type": "code",
   "execution_count": 59,
   "metadata": {},
   "outputs": [
    {
     "name": "stdout",
     "output_type": "stream",
     "text": [
      "              precision    recall  f1-score   support\n",
      "\n",
      "   Long Term       0.65      0.37      0.47        35\n",
      "      No Use       0.80      0.62      0.70        69\n",
      "  Short Term       0.45      0.75      0.56        44\n",
      "\n",
      "    accuracy                           0.60       148\n",
      "   macro avg       0.63      0.58      0.58       148\n",
      "weighted avg       0.66      0.60      0.60       148\n",
      "\n"
     ]
    }
   ],
   "source": [
    "report = classification_report(y_test, y_hat_test)\n",
    "print(report)"
   ]
  },
  {
   "cell_type": "code",
   "execution_count": 60,
   "metadata": {},
   "outputs": [
    {
     "data": {
      "text/plain": [
       "<matplotlib.axes._subplots.AxesSubplot at 0x7fa17bcd7ba8>"
      ]
     },
     "execution_count": 60,
     "metadata": {},
     "output_type": "execute_result"
    },
    {
     "data": {
      "image/png": "[encoded data removed]",
      "text/plain": [
       "<Figure size 432x288 with 1 Axes>"
      ]
     },
     "metadata": {
      "needs_background": "light"
     },
     "output_type": "display_data"
    }
   ],
   "source": [
    "sns.countplot(data=contra, x = 'type')"
   ]
  },
  {
   "cell_type": "markdown",
   "metadata": {},
   "source": [
    "**Precision** measures the proportion $\\frac{\\text{TP}}{\\text{TP} + \\text{FP}}$ \n",
    "\n",
    "**Recall** measures the proportion $\\frac{\\text{TP}}{\\text{TP} + \\text{FN}}$ \n",
    "\n",
    "**False-alarm rate** measures the proportion $\\frac{\\text{FP}}{\\text{FP} + \\text{TN}}$ "
   ]
  },
  {
   "cell_type": "markdown",
   "metadata": {},
   "source": [
    "*It was fishy to me that there was more data in the 'Short Term' \n",
    "class then the 'Long Term' yet there was higher precision in the 'Short Term'\n",
    "class then the 'Long Term'. Analyzing the proportions of certain\n",
    "features such as wife_education, husband_education, and standard_living showed that\n",
    "there was a disproportionate amoung of rich and highly educated people that were \n",
    "on Long Term contraceptives vs Short Term. This likely made the predictive power\n",
    "of these features much more profound for Long Term vs Short Term, which\n",
    "would explain why the predictions were more precise, despite the algorithm seeing\n",
    "less examples for the long term class*"
   ]
  },
  {
   "cell_type": "markdown",
   "metadata": {},
   "source": [
    "*I realized that much of the 'No Use' and 'Short Term' birth control\n",
    "results had similar proportion in' terms of the features husband education, \n",
    "wife education, and standard of living, but that Long Term Use was distinctly \n",
    "full of 'super smart rich' people. I decided to combine 'No Use' and 'Short Term'\n",
    "into a single class assigned to 0 and Long Term Use assigned to class 1, making \n",
    "this a binary classification problem. The results on prediction improved significantly.*\n"
   ]
  },
  {
   "cell_type": "markdown",
   "metadata": {},
   "source": [
    "# Testing the Models on the Binary Problem: Long Term vs No Use/Short Term"
   ]
  },
  {
   "cell_type": "code",
   "execution_count": 61,
   "metadata": {},
   "outputs": [],
   "source": [
    "contra['type2'] = contra['contraceptive'].replace({1: 0, 2: 1, 3 : 0})"
   ]
  },
  {
   "cell_type": "code",
   "execution_count": 62,
   "metadata": {},
   "outputs": [],
   "source": [
    "X_train_2class, X_test_2class, y_train_2class, y_test_2class = \\\n",
    "    train_test_split(design(contra, phi1), contra[['type2']], test_size = .3, random_state = 42)\n",
    "\n",
    "X_test_2class, X_valid_2class, y_test_2class, y_valid_2class = \\\n",
    "    train_test_split(X_test_2class, y_test_2class, test_size = .5, random_state = 42)"
   ]
  },
  {
   "cell_type": "code",
   "execution_count": 63,
   "metadata": {},
   "outputs": [],
   "source": [
    "logistic_model = LogisticRegressionCV(max_iter = 1000, random_state=42)\n",
    "logistic_model.fit(X_train_2class, y_train_2class)\n",
    "y_hat = logistic_model.predict(X_train_2class)"
   ]
  },
  {
   "cell_type": "code",
   "execution_count": 64,
   "metadata": {},
   "outputs": [
    {
     "name": "stdout",
     "output_type": "stream",
     "text": [
      "Validation Accuracy Best Logistic Regression: 0.7701233525632005\n"
     ]
    }
   ],
   "source": [
    "cross_val_avg = np.mean(cross_val_score(logistic_model, X_train_2class, y_train_2class))\n",
    "print(\"Validation Accuracy Best Logistic Regression:\", cross_val_avg)"
   ]
  },
  {
   "cell_type": "code",
   "execution_count": 65,
   "metadata": {},
   "outputs": [],
   "source": [
    "y_hat_valid = logistic_model.predict(X_test_2class)"
   ]
  },
  {
   "cell_type": "code",
   "execution_count": 66,
   "metadata": {},
   "outputs": [],
   "source": [
    "cross_val_avg = np.mean(cross_val_score(rf_best, X_train_2class, y_train_2class))"
   ]
  },
  {
   "cell_type": "code",
   "execution_count": 67,
   "metadata": {},
   "outputs": [
    {
     "name": "stdout",
     "output_type": "stream",
     "text": [
      "Validation Average Best Random Forest: 0.7885558838703626\n"
     ]
    }
   ],
   "source": [
    "print(\"Validation Average Best Random Forest:\", cross_val_avg)"
   ]
  },
  {
   "cell_type": "code",
   "execution_count": 68,
   "metadata": {},
   "outputs": [
    {
     "data": {
      "text/plain": [
       "RandomForestClassifier(bootstrap=True, ccp_alpha=0.0, class_weight=None,\n",
       "                       criterion='gini', max_depth=6, max_features='auto',\n",
       "                       max_leaf_nodes=None, max_samples=None,\n",
       "                       min_impurity_decrease=0.0, min_impurity_split=None,\n",
       "                       min_samples_leaf=1, min_samples_split=2,\n",
       "                       min_weight_fraction_leaf=0.0, n_estimators=110,\n",
       "                       n_jobs=None, oob_score=False, random_state=10, verbose=0,\n",
       "                       warm_start=False)"
      ]
     },
     "execution_count": 68,
     "metadata": {},
     "output_type": "execute_result"
    }
   ],
   "source": [
    "rf_best.fit(X_train_2class, y_train_2class)"
   ]
  },
  {
   "cell_type": "code",
   "execution_count": 69,
   "metadata": {},
   "outputs": [
    {
     "name": "stdout",
     "output_type": "stream",
     "text": [
      "              precision    recall  f1-score   support\n",
      "\n",
      "           0       0.78      0.98      0.87       172\n",
      "           1       0.25      0.02      0.04        49\n",
      "\n",
      "    accuracy                           0.77       221\n",
      "   macro avg       0.51      0.50      0.45       221\n",
      "weighted avg       0.66      0.77      0.68       221\n",
      "\n"
     ]
    }
   ],
   "source": [
    "report = classification_report(y_valid_2class, y_hat_valid)\n",
    "print(report)"
   ]
  },
  {
   "cell_type": "code",
   "execution_count": 70,
   "metadata": {},
   "outputs": [
    {
     "data": {
      "text/plain": [
       "Text(0.5, 1.0, 'Number of Samples for 2 Class Problem')"
      ]
     },
     "execution_count": 70,
     "metadata": {},
     "output_type": "execute_result"
    },
    {
     "data": {
      "image/png": "[encoded data removed]",
      "text/plain": [
       "<Figure size 432x288 with 1 Axes>"
      ]
     },
     "metadata": {
      "needs_background": "light"
     },
     "output_type": "display_data"
    }
   ],
   "source": [
    "sns.countplot(data=contra, x = 'type2')\n",
    "plt.title(\"Number of Samples for 2 Class Problem\")\n"
   ]
  },
  {
   "cell_type": "markdown",
   "metadata": {},
   "source": [
    "*It appears that transforming the three class problem into a 2 class\n",
    "problem had very high precision and recall for class 0. However, \n",
    "the recall was very low for class 1. This is likely due to the fact the data had a heavily\n",
    "disproportionate amount of 0 classes vs 1.*"
   ]
  },
  {
   "cell_type": "markdown",
   "metadata": {},
   "source": [
    "# Final Metrics"
   ]
  },
  {
   "cell_type": "markdown",
   "metadata": {},
   "source": [
    "*These metrics are calculated on the unbalanced data using a random forest model with 110 learners\n",
    "and a maximum depth of 6 with feature function phi1 applied to the data and religion left out as a feature*"
   ]
  },
  {
   "cell_type": "code",
   "execution_count": 79,
   "metadata": {},
   "outputs": [
    {
     "name": "stdout",
     "output_type": "stream",
     "text": [
      "Train Accuracy Best Random Forest: 0.7749757516973812\n"
     ]
    }
   ],
   "source": [
    "y_hat_train = rf_best.predict(X_train_2class)\n",
    "rf_train_score = accuracy_score(y_hat_train, y_train_2class)\n",
    "print(\"Train Accuracy Best Random Forest:\", rf_train_score)"
   ]
  },
  {
   "cell_type": "code",
   "execution_count": 80,
   "metadata": {},
   "outputs": [
    {
     "name": "stdout",
     "output_type": "stream",
     "text": [
      "Test Accuracy Best Random Forest: 0.7375565610859729\n"
     ]
    }
   ],
   "source": [
    "y_hat_test = rf_best.predict(X_test_2class)\n",
    "rf_test_score = accuracy_score(y_hat_test, y_test_2class)\n",
    "print(\"Test Accuracy Best Random Forest:\", rf_test_score)"
   ]
  }
 ],
 "metadata": {
  "kernelspec": {
   "display_name": "Python 3",
   "language": "python",
   "name": "python3"
  },
  "language_info": {
   "codemirror_mode": {
    "name": "ipython",
    "version": 3
   },
   "file_extension": ".py",
   "mimetype": "text/x-python",
   "name": "python",
   "nbconvert_exporter": "python",
   "pygments_lexer": "ipython3",
   "version": "3.8.4"
  },
  "toc": {
   "base_numbering": 1,
   "nav_menu": {},
   "number_sections": true,
   "sideBar": true,
   "skip_h1_title": false,
   "title_cell": "Table of Contents",
   "title_sidebar": "Contents",
   "toc_cell": false,
   "toc_position": {},
   "toc_section_display": true,
   "toc_window_display": false
  },
  "varInspector": {
   "cols": {
    "lenName": 16,
    "lenType": 16,
    "lenVar": 40
   },
   "kernels_config": {
    "python": {
     "delete_cmd_postfix": "",
     "delete_cmd_prefix": "del ",
     "library": "var_list.py",
     "varRefreshCmd": "print(var_dic_list())"
    },
    "r": {
     "delete_cmd_postfix": ") ",
     "delete_cmd_prefix": "rm(",
     "library": "var_list.r",
     "varRefreshCmd": "cat(var_dic_list()) "
    }
   },
   "types_to_exclude": [
    "module",
    "function",
    "builtin_function_or_method",
    "instance",
    "_Feature"
   ],
   "window_display": false
  }
 },
 "nbformat": 4,
 "nbformat_minor": 4
}
